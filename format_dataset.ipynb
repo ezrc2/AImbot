{
 "cells": [
  {
   "cell_type": "code",
   "execution_count": 7,
   "metadata": {},
   "outputs": [],
   "source": [
    "import natsort\n",
    "from glob import glob\n",
    "\n",
    "image_list = natsort.natsorted(glob(\"demo_set/images/*.jpg\"))\n",
    "bbox_txt_list = natsort.natsorted(glob(\"demo_set/trained_boxes/*.txt\"))"
   ]
  },
  {
   "cell_type": "code",
   "execution_count": 8,
   "metadata": {},
   "outputs": [
    {
     "name": "stdout",
     "output_type": "stream",
     "text": [
      "30\n",
      "30\n"
     ]
    }
   ],
   "source": [
    "print(len(image_list))\n",
    "print(len(bbox_txt_list))"
   ]
  },
  {
   "cell_type": "code",
   "execution_count": 9,
   "metadata": {},
   "outputs": [
    {
     "name": "stdout",
     "output_type": "stream",
     "text": [
      "[226, 159, 264, 289]\n",
      "[250, 141, 305, 322]\n",
      "[237, 112, 297, 278]\n",
      "[166, 220, 248, 415]\n",
      "[198, 191, 223, 281]\n",
      "[313, 0, 365, 58]\n",
      "[163, 199, 195, 277]\n",
      "[175, 152, 218, 340]\n",
      "[192, 116, 223, 205]\n",
      "[156, 113, 243, 313]\n",
      "[0, 247, 70, 569]\n",
      "[365, 252, 437, 481]\n",
      "[351, 299, 364, 343]\n",
      "[0, 387, 27, 514]\n",
      "[545, 398, 588, 541]\n",
      "[0, 387, 24, 511]\n",
      "[492, 317, 516, 418]\n",
      "[299, 302, 309, 338]\n",
      "[194, 357, 227, 431]\n",
      "[316, 316, 329, 352]\n",
      "[305, 366, 340, 443]\n",
      "[-1, -1, -1, -1]\n",
      "[-1, -1, -1, -1]\n",
      "[144, 305, 157, 346]\n",
      "[379, 307, 390, 352]\n",
      "[352, 307, 360, 337]\n",
      "[265, 196, 408, 637]\n",
      "[106, 170, 201, 415]\n",
      "[617, 263, 1408, 482]\n",
      "[975, 317, 1465, 526]\n",
      "[730, 470, 1350, 733]\n",
      "[927, 401, 1264, 535]\n",
      "[672, 289, 768, 342]\n",
      "[-1, -1, -1, -1]\n",
      "[200, 401, 892, 584]\n",
      "[42, 366, 494, 815]\n",
      "[163, 474, 520, 719]\n",
      "[937, 454, 1139, 597]\n",
      "[191, 300, 1870, 812]\n",
      "[-1, -1, -1, -1]\n"
     ]
    }
   ],
   "source": [
    "from PIL import Image\n",
    "import json\n",
    "import os\n",
    "\n",
    "to_absolute = False\n",
    "isjanky_coords = False\n",
    "split = ','\n",
    "\n",
    "with open(\"demo_set/images/metadata.jsonl\", \"w+\") as mdf:\n",
    "    for i in range(len(image_list)):\n",
    "        image_file = image_list[i]\n",
    "        bbox_text = bbox_txt_list[i]\n",
    "        bboxes = []\n",
    "        img = Image.open(image_file)\n",
    "        scale_w, scale_h = img.size\n",
    "        with open(bbox_text, \"r\") as f:\n",
    "            for line in f:\n",
    "                parts = line.strip().split(split)\n",
    "                if to_absolute:\n",
    "                    x, y, w, h = map(float, parts)\n",
    "                    x *= scale_w\n",
    "                    w *= scale_w\n",
    "                    y *= scale_h\n",
    "                    h *= scale_h\n",
    "                else:\n",
    "                    x, y, w, h = map(int, parts)\n",
    "                    \n",
    "                if isjanky_coords:\n",
    "                    bboxes.append([x-w/2,y-h/2,x+w/2,y+h/2])\n",
    "                else:\n",
    "                    bboxes.append([x,y,w,h])\n",
    "                print(bboxes[-1])\n",
    "        \n",
    "        obj = {\n",
    "            \"file_name\": image_file[image_file.find('\\\\')+1:],\n",
    "            \"objects\": {\n",
    "                \"bbox\": bboxes\n",
    "            }\n",
    "        }\n",
    "        \n",
    "        mdf.write(json.dumps(obj) + \"\\n\")"
   ]
  }
 ],
 "metadata": {
  "kernelspec": {
   "display_name": "finalproj",
   "language": "python",
   "name": "python3"
  },
  "language_info": {
   "codemirror_mode": {
    "name": "ipython",
    "version": 3
   },
   "file_extension": ".py",
   "mimetype": "text/x-python",
   "name": "python",
   "nbconvert_exporter": "python",
   "pygments_lexer": "ipython3",
   "version": "3.10.16"
  }
 },
 "nbformat": 4,
 "nbformat_minor": 2
}
